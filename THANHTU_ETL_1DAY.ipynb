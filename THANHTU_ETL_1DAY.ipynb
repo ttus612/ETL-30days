{
 "cells": [
  {
   "cell_type": "code",
   "execution_count": 63,
   "metadata": {},
   "outputs": [],
   "source": [
    "\n",
    "import findspark\n",
    "findspark.init()\n",
    "\n",
    "import pyspark\n",
    "from pyspark.sql import SparkSession\n",
    "from pyspark.sql.functions import *\n",
    "from pyspark.context import SparkContext\n",
    "import pandas as pd"
   ]
  },
  {
   "cell_type": "code",
   "execution_count": 64,
   "metadata": {},
   "outputs": [],
   "source": [
    "spark = SparkSession.builder.config(\"spark.driver.memory\", \"8g\").getOrCreate()"
   ]
  },
  {
   "cell_type": "markdown",
   "metadata": {},
   "source": [
    "Chỉnh lại đường dẫn file cuả bạn"
   ]
  },
  {
   "cell_type": "code",
   "execution_count": 65,
   "metadata": {},
   "outputs": [],
   "source": [
    "path = 'D:\\\\WORKSPACE\\\\DE\\\\study_de\\\\Big_Data\\\\Items Shared on 4-29-2023\\\\Dataset\\\\log_content\\\\20220401.json'"
   ]
  },
  {
   "cell_type": "code",
   "execution_count": 66,
   "metadata": {},
   "outputs": [],
   "source": [
    "ds = spark.read.json(path)"
   ]
  },
  {
   "cell_type": "code",
   "execution_count": 67,
   "metadata": {},
   "outputs": [
    {
     "name": "stdout",
     "output_type": "stream",
     "text": [
      "+--------------------+-------+------+--------------------+-----+\n",
      "|                 _id| _index|_score|             _source|_type|\n",
      "+--------------------+-------+------+--------------------+-----+\n",
      "|AX_momhia1FFivsGrn9o|history|     0|{KPLUS, HNH579912...|kplus|\n",
      "|AX_momhca1FFivsGrnvg|history|     0|{KPLUS, HUFD40665...|kplus|\n",
      "|AX_momhaa1FFivsGrnny|history|     0|{KPLUS, HNH572635...|kplus|\n",
      "|AX_momhca1FFivsGrnvv|history|     0|{KPLUS, HND141717...|kplus|\n",
      "|AX_momhia1FFivsGrn98|history|     0|{KPLUS, HNH743103...|kplus|\n",
      "|AX_momg9a1FFivsGrnkS|history|     0|{KPLUS, HNH893773...|kplus|\n",
      "|AX_momhca1FFivsGrnwA|history|     0|{KPLUS, HND083642...|kplus|\n",
      "|AX_momhfa1FFivsGrn2u|history|     0|{KPLUS, DNFD74404...|kplus|\n",
      "|AX_momhca1FFivsGrnwP|history|     0|{KPLUS, DTFD21200...|kplus|\n",
      "|AX_momhca1FFivsGrnwU|history|     0|{KPLUS, LDFD05747...|kplus|\n",
      "|AX_momhfa1FFivsGrn24|history|     0|{KPLUS, HNH063566...|kplus|\n",
      "|AX_momhia1FFivsGrn-W|history|     0|{KPLUS, HNH866786...|kplus|\n",
      "|AX_momhia1FFivsGrn-a|history|     0|{KPLUS, NBAAA1128...|kplus|\n",
      "|AX_momhfa1FFivsGrn3J|history|     0|{KPLUS, HNH960439...|kplus|\n",
      "|AX_momhia1FFivsGrn-k|history|     0|{KPLUS, HNJ035736...|kplus|\n",
      "|AX_momhaa1FFivsGrnol|history|     0|{KPLUS, NTFD93673...|kplus|\n",
      "|AX_momhaa1FFivsGrnoq|history|     0|{KPLUS, HNJ063267...|kplus|\n",
      "|AX_momg9a1FFivsGrnlF|history|     0|{KPLUS, HNH790383...|kplus|\n",
      "|AX_momhia1FFivsGrn-4|history|     0|{KPLUS, THFD12466...|kplus|\n",
      "|AX_momhia1FFivsGrn-9|history|     0|{KPLUS, HNH566080...|kplus|\n",
      "+--------------------+-------+------+--------------------+-----+\n",
      "only showing top 20 rows\n",
      "\n"
     ]
    }
   ],
   "source": [
    "ds.show()"
   ]
  },
  {
   "cell_type": "code",
   "execution_count": 68,
   "metadata": {},
   "outputs": [
    {
     "name": "stdout",
     "output_type": "stream",
     "text": [
      "root\n",
      " |-- _id: string (nullable = true)\n",
      " |-- _index: string (nullable = true)\n",
      " |-- _score: long (nullable = true)\n",
      " |-- _source: struct (nullable = true)\n",
      " |    |-- AppName: string (nullable = true)\n",
      " |    |-- Contract: string (nullable = true)\n",
      " |    |-- Mac: string (nullable = true)\n",
      " |    |-- TotalDuration: long (nullable = true)\n",
      " |-- _type: string (nullable = true)\n",
      "\n"
     ]
    }
   ],
   "source": [
    "ds.printSchema()"
   ]
  },
  {
   "cell_type": "code",
   "execution_count": 69,
   "metadata": {},
   "outputs": [
    {
     "name": "stdout",
     "output_type": "stream",
     "text": [
      "root\n",
      " |-- _source: struct (nullable = true)\n",
      " |    |-- AppName: string (nullable = true)\n",
      " |    |-- Contract: string (nullable = true)\n",
      " |    |-- Mac: string (nullable = true)\n",
      " |    |-- TotalDuration: long (nullable = true)\n",
      "\n"
     ]
    }
   ],
   "source": [
    "ds.select('_source').printSchema()"
   ]
  },
  {
   "cell_type": "code",
   "execution_count": 70,
   "metadata": {},
   "outputs": [
    {
     "name": "stdout",
     "output_type": "stream",
     "text": [
      "+-------+---------+-------------+\n",
      "|AppName| Contract|TotalDuration|\n",
      "+-------+---------+-------------+\n",
      "|  KPLUS|HNH579912|          254|\n",
      "|  KPLUS|HUFD40665|         1457|\n",
      "|  KPLUS|HNH572635|         2318|\n",
      "|  KPLUS|HND141717|         1452|\n",
      "|  KPLUS|HNH743103|          251|\n",
      "|  KPLUS|HNH893773|          924|\n",
      "|  KPLUS|HND083642|         1444|\n",
      "|  KPLUS|DNFD74404|          691|\n",
      "|  KPLUS|DTFD21200|         1436|\n",
      "|  KPLUS|LDFD05747|         1434|\n",
      "|  KPLUS|HNH063566|          687|\n",
      "|  KPLUS|HNH866786|          248|\n",
      "|  KPLUS|NBAAA1128|          247|\n",
      "|  KPLUS|HNH960439|          683|\n",
      "|  KPLUS|HNJ035736|          246|\n",
      "|  KPLUS|NTFD93673|         2288|\n",
      "|  KPLUS|HNJ063267|         2282|\n",
      "|  KPLUS|HNH790383|          906|\n",
      "|  KPLUS|THFD12466|          242|\n",
      "|  KPLUS|HNH566080|          242|\n",
      "+-------+---------+-------------+\n",
      "only showing top 20 rows\n",
      "\n"
     ]
    }
   ],
   "source": [
    "ds.select('_source.AppName', '_source.Contract', '_source.TotalDuration').show()"
   ]
  },
  {
   "cell_type": "code",
   "execution_count": 71,
   "metadata": {},
   "outputs": [
    {
     "name": "stdout",
     "output_type": "stream",
     "text": [
      "+-------+\n",
      "|AppName|\n",
      "+-------+\n",
      "|  KPLUS|\n",
      "|  RELAX|\n",
      "|  CHILD|\n",
      "|CHANNEL|\n",
      "|    VOD|\n",
      "|   FIMS|\n",
      "|  SPORT|\n",
      "+-------+\n",
      "\n"
     ]
    }
   ],
   "source": [
    "ds.select('_source.AppName').distinct().show()"
   ]
  },
  {
   "cell_type": "markdown",
   "metadata": {},
   "source": [
    "Đặt thêm 1 cột là Category sẽ phân loại dựa theo App Name"
   ]
  },
  {
   "cell_type": "code",
   "execution_count": 72,
   "metadata": {},
   "outputs": [],
   "source": [
    "ds = ds.withColumn('Category',\n",
    "                when(\n",
    "                     (col('_source.AppName') == 'KPLUS') | \n",
    "                     (col('_source.AppName') == 'RELAX'),\n",
    "                     \"Giải trí\"\n",
    "                    )\n",
    "                .when(\n",
    "                     (col('_source.AppName') == 'CHILD'),\n",
    "                     \"Trẻ em\"\n",
    "                    )\n",
    "                .when(\n",
    "                     (col('_source.AppName') == 'CHANNEL') |\n",
    "                     (col('_source.AppName') == 'VOD'),\n",
    "                     \"Truyền hình\"\n",
    "                    )\n",
    "                .when(\n",
    "                     (col('_source.AppName') == 'FIMS'), \n",
    "                     \"Phim ảnh\"\n",
    "                )\n",
    "                .when(\n",
    "                     (col('_source.AppName') == 'SPORT'),\n",
    "                     \"Thể thao\"\n",
    "                )\n",
    "                .otherwise(\"Khác\")\n",
    "            )"
   ]
  },
  {
   "cell_type": "code",
   "execution_count": 73,
   "metadata": {},
   "outputs": [
    {
     "name": "stdout",
     "output_type": "stream",
     "text": [
      "+--------------------+-------+------+--------------------+-----+--------+\n",
      "|                 _id| _index|_score|             _source|_type|Category|\n",
      "+--------------------+-------+------+--------------------+-----+--------+\n",
      "|AX_momhia1FFivsGrn9o|history|     0|{KPLUS, HNH579912...|kplus|Giải trí|\n",
      "|AX_momhca1FFivsGrnvg|history|     0|{KPLUS, HUFD40665...|kplus|Giải trí|\n",
      "|AX_momhaa1FFivsGrnny|history|     0|{KPLUS, HNH572635...|kplus|Giải trí|\n",
      "|AX_momhca1FFivsGrnvv|history|     0|{KPLUS, HND141717...|kplus|Giải trí|\n",
      "|AX_momhia1FFivsGrn98|history|     0|{KPLUS, HNH743103...|kplus|Giải trí|\n",
      "|AX_momg9a1FFivsGrnkS|history|     0|{KPLUS, HNH893773...|kplus|Giải trí|\n",
      "|AX_momhca1FFivsGrnwA|history|     0|{KPLUS, HND083642...|kplus|Giải trí|\n",
      "|AX_momhfa1FFivsGrn2u|history|     0|{KPLUS, DNFD74404...|kplus|Giải trí|\n",
      "|AX_momhca1FFivsGrnwP|history|     0|{KPLUS, DTFD21200...|kplus|Giải trí|\n",
      "|AX_momhca1FFivsGrnwU|history|     0|{KPLUS, LDFD05747...|kplus|Giải trí|\n",
      "|AX_momhfa1FFivsGrn24|history|     0|{KPLUS, HNH063566...|kplus|Giải trí|\n",
      "|AX_momhia1FFivsGrn-W|history|     0|{KPLUS, HNH866786...|kplus|Giải trí|\n",
      "|AX_momhia1FFivsGrn-a|history|     0|{KPLUS, NBAAA1128...|kplus|Giải trí|\n",
      "|AX_momhfa1FFivsGrn3J|history|     0|{KPLUS, HNH960439...|kplus|Giải trí|\n",
      "|AX_momhia1FFivsGrn-k|history|     0|{KPLUS, HNJ035736...|kplus|Giải trí|\n",
      "|AX_momhaa1FFivsGrnol|history|     0|{KPLUS, NTFD93673...|kplus|Giải trí|\n",
      "|AX_momhaa1FFivsGrnoq|history|     0|{KPLUS, HNJ063267...|kplus|Giải trí|\n",
      "|AX_momg9a1FFivsGrnlF|history|     0|{KPLUS, HNH790383...|kplus|Giải trí|\n",
      "|AX_momhia1FFivsGrn-4|history|     0|{KPLUS, THFD12466...|kplus|Giải trí|\n",
      "|AX_momhia1FFivsGrn-9|history|     0|{KPLUS, HNH566080...|kplus|Giải trí|\n",
      "+--------------------+-------+------+--------------------+-----+--------+\n",
      "only showing top 20 rows\n",
      "\n"
     ]
    }
   ],
   "source": [
    "ds.show()"
   ]
  },
  {
   "cell_type": "markdown",
   "metadata": {},
   "source": [
    "In thử ra 1 Contact là HND638705 xem nó hiện đang có dữ liệu như thế nào"
   ]
  },
  {
   "cell_type": "code",
   "execution_count": 74,
   "metadata": {},
   "outputs": [
    {
     "name": "stdout",
     "output_type": "stream",
     "text": [
      "+-------+---------+-------------+\n",
      "|AppName| Contract|TotalDuration|\n",
      "+-------+---------+-------------+\n",
      "|  KPLUS|HND638705|          607|\n",
      "|CHANNEL|HND638705|           22|\n",
      "|CHANNEL|HND638705|        10599|\n",
      "|    VOD|HND638705|          287|\n",
      "+-------+---------+-------------+\n",
      "\n"
     ]
    }
   ],
   "source": [
    "ds.filter(ds['_source']['Contract'] == 'HND638705').select('_source.AppName', '_source.Contract', '_source.TotalDuration').show()"
   ]
  },
  {
   "cell_type": "markdown",
   "metadata": {},
   "source": [
    "Tiến hành gom nhóm"
   ]
  },
  {
   "cell_type": "code",
   "execution_count": 75,
   "metadata": {},
   "outputs": [],
   "source": [
    "grouped_data = ds.groupBy('_source.Contract', 'Category').agg(\n",
    "    sum('_source.TotalDuration').alias('TotalDuration')\n",
    ")"
   ]
  },
  {
   "cell_type": "code",
   "execution_count": 76,
   "metadata": {},
   "outputs": [
    {
     "name": "stdout",
     "output_type": "stream",
     "text": [
      "+---------+-----------+-------------+\n",
      "| Contract|   Category|TotalDuration|\n",
      "+---------+-----------+-------------+\n",
      "|HND638705|   Giải trí|          607|\n",
      "|SGFD80170|Truyền hình|        46346|\n",
      "|TBAAA1446|Truyền hình|        83545|\n",
      "|HNH258681|Truyền hình|        65208|\n",
      "|TQFD05495|Truyền hình|        19677|\n",
      "|HYAAA2710|Truyền hình|        18854|\n",
      "|TNFD04348|Truyền hình|        18837|\n",
      "|LDFD11035|Truyền hình|        19409|\n",
      "|QNAAA1707|Truyền hình|        47328|\n",
      "|SGJ123154|Truyền hình|         8822|\n",
      "|SLAAA0800|   Giải trí|          163|\n",
      "|NTFD67846|   Giải trí|          162|\n",
      "|HNH950968|Truyền hình|        82202|\n",
      "|HND391656|   Giải trí|           98|\n",
      "|SGH478512|Truyền hình|        86906|\n",
      "|QNFD15420|Truyền hình|        18774|\n",
      "|HNH450758|Truyền hình|        18744|\n",
      "|HDFD09931|Truyền hình|        82707|\n",
      "|SGJ106321|Truyền hình|        18741|\n",
      "|SGD514548|Truyền hình|        55689|\n",
      "+---------+-----------+-------------+\n",
      "only showing top 20 rows\n",
      "\n"
     ]
    }
   ],
   "source": [
    "\n",
    "grouped_data.show()"
   ]
  },
  {
   "cell_type": "markdown",
   "metadata": {},
   "source": [
    "In ra dữ liệu và so với kết quả trước khi groupby thì thấy khớp"
   ]
  },
  {
   "cell_type": "code",
   "execution_count": 77,
   "metadata": {},
   "outputs": [
    {
     "name": "stdout",
     "output_type": "stream",
     "text": [
      "+---------+-----------+-------------+\n",
      "| Contract|   Category|TotalDuration|\n",
      "+---------+-----------+-------------+\n",
      "|HND638705|   Giải trí|          607|\n",
      "|HND638705|Truyền hình|        10908|\n",
      "+---------+-----------+-------------+\n",
      "\n"
     ]
    }
   ],
   "source": [
    "grouped_data.filter((grouped_data.Contract == 'HND638705') ).show()"
   ]
  },
  {
   "cell_type": "markdown",
   "metadata": {},
   "source": [
    "Tiến hành pivot"
   ]
  },
  {
   "cell_type": "code",
   "execution_count": 78,
   "metadata": {},
   "outputs": [],
   "source": [
    "pivot_data = grouped_data.groupBy('Contract').pivot('Category').agg(sum('TotalDuration')).withColumnRenamed('Giải trí', 'TVDuration').withColumnRenamed('Phim ảnh', 'MovieDuration').withColumnRenamed('Trẻ em', 'ChildDuration').withColumnRenamed('Thể thao', 'SportDuration').withColumnRenamed('Truyền hình', 'RelaxDuration').na.fill(0)"
   ]
  },
  {
   "cell_type": "code",
   "execution_count": 79,
   "metadata": {},
   "outputs": [
    {
     "name": "stdout",
     "output_type": "stream",
     "text": [
      "+---------+----------+-------------+-------------+-------------+-------------+\n",
      "| Contract|TVDuration|MovieDuration|SportDuration|RelaxDuration|ChildDuration|\n",
      "+---------+----------+-------------+-------------+-------------+-------------+\n",
      "|SGJ041247|         0|            0|            0|           39|            0|\n",
      "|BGFD09100|         0|            0|            0|        12525|            0|\n",
      "|SGH671806|         0|            0|            0|           34|            0|\n",
      "|HPD045982|         0|            0|            0|        25089|            0|\n",
      "|KTFD09382|         0|            0|            0|         3868|            0|\n",
      "|DNFD57491|         0|            0|            0|         6205|            0|\n",
      "|SGAAC4404|         0|            0|            0|        44526|            0|\n",
      "|DAFD62690|         0|            0|            0|        32864|            0|\n",
      "|LDFD25252|         0|            0|            0|         7998|            0|\n",
      "|HNH574564|         0|            0|            0|         2532|            0|\n",
      "|SGH246712|         0|            0|            0|        81390|            0|\n",
      "|SGH446342|         0|            0|            0|        11428|            0|\n",
      "|HND628405|         0|            0|            0|        16668|            0|\n",
      "|HYFD35051|         0|            0|            0|        33751|            0|\n",
      "|KGFD25702|         0|            0|            0|        62441|            0|\n",
      "|QNH005533|         0|            0|            0|         6408|            0|\n",
      "|DLFD00680|         0|            0|            0|         2756|            0|\n",
      "|SGH068360|         0|            0|            0|        10835|            0|\n",
      "|NDFD19838|         0|            0|            0|         5256|            0|\n",
      "|HNH851447|         0|            0|            0|         4957|            0|\n",
      "+---------+----------+-------------+-------------+-------------+-------------+\n",
      "only showing top 20 rows\n",
      "\n"
     ]
    }
   ],
   "source": [
    "pivot_data.show()"
   ]
  },
  {
   "cell_type": "code",
   "execution_count": 81,
   "metadata": {},
   "outputs": [
    {
     "name": "stdout",
     "output_type": "stream",
     "text": [
      "+---------+----------+-------------+-------------+-------------+-------------+\n",
      "| Contract|TVDuration|MovieDuration|SportDuration|RelaxDuration|ChildDuration|\n",
      "+---------+----------+-------------+-------------+-------------+-------------+\n",
      "|SGJ041247|         0|            0|            0|           39|            0|\n",
      "|BGFD09100|         0|            0|            0|        12525|            0|\n",
      "|SGH671806|         0|            0|            0|           34|            0|\n",
      "|HPD045982|         0|            0|            0|        25089|            0|\n",
      "|KTFD09382|         0|            0|            0|         3868|            0|\n",
      "|DNFD57491|         0|            0|            0|         6205|            0|\n",
      "|SGAAC4404|         0|            0|            0|        44526|            0|\n",
      "|DAFD62690|         0|            0|            0|        32864|            0|\n",
      "|LDFD25252|         0|            0|            0|         7998|            0|\n",
      "|HNH574564|         0|            0|            0|         2532|            0|\n",
      "|SGH246712|         0|            0|            0|        81390|            0|\n",
      "|SGH446342|         0|            0|            0|        11428|            0|\n",
      "|HND628405|         0|            0|            0|        16668|            0|\n",
      "|HYFD35051|         0|            0|            0|        33751|            0|\n",
      "|KGFD25702|         0|            0|            0|        62441|            0|\n",
      "|QNH005533|         0|            0|            0|         6408|            0|\n",
      "|DLFD00680|         0|            0|            0|         2756|            0|\n",
      "|SGH068360|         0|            0|            0|        10835|            0|\n",
      "|NDFD19838|         0|            0|            0|         5256|            0|\n",
      "|HNH851447|         0|            0|            0|         4957|            0|\n",
      "+---------+----------+-------------+-------------+-------------+-------------+\n",
      "only showing top 20 rows\n",
      "\n"
     ]
    }
   ],
   "source": [
    "pivot_data.show()"
   ]
  },
  {
   "cell_type": "code",
   "execution_count": 82,
   "metadata": {},
   "outputs": [
    {
     "name": "stdout",
     "output_type": "stream",
     "text": [
      "+---------+----------+-------------+-------------+-------------+-------------+\n",
      "| Contract|TVDuration|MovieDuration|SportDuration|RelaxDuration|ChildDuration|\n",
      "+---------+----------+-------------+-------------+-------------+-------------+\n",
      "|HND638705|       607|            0|            0|        10908|            0|\n",
      "+---------+----------+-------------+-------------+-------------+-------------+\n",
      "\n"
     ]
    }
   ],
   "source": [
    "pivot_data.filter((pivot_data.Contract == 'HND638705') ).show()"
   ]
  },
  {
   "cell_type": "code",
   "execution_count": null,
   "metadata": {},
   "outputs": [],
   "source": [
    "spark.stop()"
   ]
  }
 ],
 "metadata": {
  "kernelspec": {
   "display_name": "base",
   "language": "python",
   "name": "python3"
  },
  "language_info": {
   "codemirror_mode": {
    "name": "ipython",
    "version": 3
   },
   "file_extension": ".py",
   "mimetype": "text/x-python",
   "name": "python",
   "nbconvert_exporter": "python",
   "pygments_lexer": "ipython3",
   "version": "3.11.5"
  }
 },
 "nbformat": 4,
 "nbformat_minor": 2
}
